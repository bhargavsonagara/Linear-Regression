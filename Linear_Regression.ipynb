{
  "nbformat": 4,
  "nbformat_minor": 0,
  "metadata": {
    "colab": {
      "name": "Linear Regression.ipynb",
      "provenance": [],
      "collapsed_sections": []
    },
    "kernelspec": {
      "name": "python3",
      "display_name": "Python 3"
    },
    "language_info": {
      "name": "python"
    }
  },
  "cells": [
    {
      "cell_type": "markdown",
      "metadata": {
        "id": "qikETaih9sUj"
      },
      "source": [
        "#Sparks Foundation\n",
        "##Graduate Rotational Internship Program\n",
        "\n",
        "#Author: Bhargav Sonagara\n",
        "##Data Science & Business Analytics Tasks\n",
        "\n",
        "###Task 1:Prediction using Supervised ML\n",
        "\n",
        "###Statement: Predict the percentage of an student based on the no. of study hours.\n",
        "\n",
        "Dataset link: https://raw.githubusercontent.com/AdiPersonalWorks/Random/master/student_scores%20-%20student_scores.csv"
      ]
    },
    {
      "cell_type": "code",
      "metadata": {
        "id": "SQ2OKN5Ylg25"
      },
      "source": [
        "#First we imported all the important library\n",
        "import numpy as np \n",
        "import pandas as pd\n",
        "import matplotlib.pyplot as plt"
      ],
      "execution_count": 38,
      "outputs": []
    },
    {
      "cell_type": "markdown",
      "metadata": {
        "id": "kbYHXlUNndcB"
      },
      "source": [
        "## Import Dataset"
      ]
    },
    {
      "cell_type": "code",
      "metadata": {
        "colab": {
          "base_uri": "https://localhost:8080/"
        },
        "id": "Pdhj6NHtmnru",
        "outputId": "e7376e0d-21a8-4df3-988d-b2ba4659f73e"
      },
      "source": [
        "#here we reading a csv file using given URL\n",
        "dataset = pd.read_csv(\"https://raw.githubusercontent.com/AdiPersonalWorks/Random/master/student_scores%20-%20student_scores.csv\")\n",
        "print(dataset.head())"
      ],
      "execution_count": 39,
      "outputs": [
        {
          "output_type": "stream",
          "text": [
            "   Hours  Scores\n",
            "0    2.5      21\n",
            "1    5.1      47\n",
            "2    3.2      27\n",
            "3    8.5      75\n",
            "4    3.5      30\n"
          ],
          "name": "stdout"
        }
      ]
    },
    {
      "cell_type": "code",
      "metadata": {
        "colab": {
          "base_uri": "https://localhost:8080/"
        },
        "id": "LBhliDYmo2Ud",
        "outputId": "4b02d1d0-2c83-4087-e9fc-4b9f31c49dcd"
      },
      "source": [
        "dataset.isnull().sum() # we have to check whether their is a null values or not"
      ],
      "execution_count": 40,
      "outputs": [
        {
          "output_type": "execute_result",
          "data": {
            "text/plain": [
              "Hours     0\n",
              "Scores    0\n",
              "dtype: int64"
            ]
          },
          "metadata": {
            "tags": []
          },
          "execution_count": 40
        }
      ]
    },
    {
      "cell_type": "code",
      "metadata": {
        "colab": {
          "base_uri": "https://localhost:8080/",
          "height": 111
        },
        "id": "7LBwUN9b7kDO",
        "outputId": "aa494ec6-79a6-4c77-c9d6-b4203a4ff468"
      },
      "source": [
        "dataset.corr() #all the values are positively correlated"
      ],
      "execution_count": 41,
      "outputs": [
        {
          "output_type": "execute_result",
          "data": {
            "text/html": [
              "<div>\n",
              "<style scoped>\n",
              "    .dataframe tbody tr th:only-of-type {\n",
              "        vertical-align: middle;\n",
              "    }\n",
              "\n",
              "    .dataframe tbody tr th {\n",
              "        vertical-align: top;\n",
              "    }\n",
              "\n",
              "    .dataframe thead th {\n",
              "        text-align: right;\n",
              "    }\n",
              "</style>\n",
              "<table border=\"1\" class=\"dataframe\">\n",
              "  <thead>\n",
              "    <tr style=\"text-align: right;\">\n",
              "      <th></th>\n",
              "      <th>Hours</th>\n",
              "      <th>Scores</th>\n",
              "    </tr>\n",
              "  </thead>\n",
              "  <tbody>\n",
              "    <tr>\n",
              "      <th>Hours</th>\n",
              "      <td>1.000000</td>\n",
              "      <td>0.976191</td>\n",
              "    </tr>\n",
              "    <tr>\n",
              "      <th>Scores</th>\n",
              "      <td>0.976191</td>\n",
              "      <td>1.000000</td>\n",
              "    </tr>\n",
              "  </tbody>\n",
              "</table>\n",
              "</div>"
            ],
            "text/plain": [
              "           Hours    Scores\n",
              "Hours   1.000000  0.976191\n",
              "Scores  0.976191  1.000000"
            ]
          },
          "metadata": {
            "tags": []
          },
          "execution_count": 41
        }
      ]
    },
    {
      "cell_type": "code",
      "metadata": {
        "colab": {
          "base_uri": "https://localhost:8080/",
          "height": 354
        },
        "id": "ii4JTuFD8IL1",
        "outputId": "e014016e-1620-4b79-db2e-80201fc3da76"
      },
      "source": [
        "#plotting regression line\n",
        "import seaborn as sns\n",
        "sns.regplot(dataset['Hours'], dataset['Scores'])\n",
        "plt.xlabel('Hours Studied')\n",
        "plt.ylabel('Scores')\n",
        "plt.title('Regression Plot', size=20)\n",
        "plt.show()"
      ],
      "execution_count": 42,
      "outputs": [
        {
          "output_type": "stream",
          "text": [
            "/usr/local/lib/python3.7/dist-packages/seaborn/_decorators.py:43: FutureWarning: Pass the following variables as keyword args: x, y. From version 0.12, the only valid positional argument will be `data`, and passing other arguments without an explicit keyword will result in an error or misinterpretation.\n",
            "  FutureWarning\n"
          ],
          "name": "stderr"
        },
        {
          "output_type": "display_data",
          "data": {
            "image/png": "[encoded data removed]",
            "text/plain": [
              "<Figure size 432x288 with 1 Axes>"
            ]
          },
          "metadata": {
            "tags": [],
            "needs_background": "light"
          }
        }
      ]
    },
    {
      "cell_type": "markdown",
      "metadata": {
        "id": "_907BJEbnZYe"
      },
      "source": [
        "## Visualization using Scatter plot"
      ]
    },
    {
      "cell_type": "code",
      "metadata": {
        "colab": {
          "base_uri": "https://localhost:8080/",
          "height": 295
        },
        "id": "nLNT0eUVmvNp",
        "outputId": "2d93e936-ad16-4ac2-dc9f-4df90ea4118b"
      },
      "source": [
        "x = dataset.iloc[:,:-1] #x should be a 2d array\n",
        "y = dataset.iloc[:,1]\n",
        "\n",
        "plt.scatter(x,y, color='red', marker='+')\n",
        "plt.xlabel('Hours')\n",
        "plt.ylabel('Scores')\n",
        "plt.title('Scores VS Hours')\n",
        "plt.show()"
      ],
      "execution_count": 43,
      "outputs": [
        {
          "output_type": "display_data",
          "data": {
            "image/png": "[encoded data removed]",
            "text/plain": [
              "<Figure size 432x288 with 1 Axes>"
            ]
          },
          "metadata": {
            "tags": [],
            "needs_background": "light"
          }
        }
      ]
    },
    {
      "cell_type": "markdown",
      "metadata": {
        "id": "x8WJBeUvp9ah"
      },
      "source": [
        "## Spliting of dataset into testing and training"
      ]
    },
    {
      "cell_type": "code",
      "metadata": {
        "id": "Kicl-RXonyDm"
      },
      "source": [
        "import sklearn\n",
        "from sklearn.model_selection import train_test_split #train_test_split is a function that divide a data into training and testing function.\n",
        "\n",
        "xtrain, xtest, ytrain, ytest = train_test_split(x, y, test_size = 0.25, random_state=1)\n",
        "\n",
        "#x is a features inside x their is only one feature as hours\n",
        "#y is labeled means output that we are predict\n",
        "#test_size means how much data that you have to put in testing remaining goes to training\n",
        "#random_state means for reproducing same dataset of train and test data. here training and testing data changes again and again"
      ],
      "execution_count": 44,
      "outputs": []
    },
    {
      "cell_type": "markdown",
      "metadata": {
        "id": "PsUn6bb9rbE1"
      },
      "source": [
        "## Create a simple linear model"
      ]
    },
    {
      "cell_type": "code",
      "metadata": {
        "id": "k-6GIvtCrS96"
      },
      "source": [
        "from sklearn.linear_model import LinearRegression\n",
        "\n",
        "model = LinearRegression() #this will create a model y=mx+b\n",
        "mymodel = model.fit(xtrain, ytrain) "
      ],
      "execution_count": 45,
      "outputs": []
    },
    {
      "cell_type": "markdown",
      "metadata": {
        "id": "09kyCx-ps4CB"
      },
      "source": [
        "## Prediction"
      ]
    },
    {
      "cell_type": "code",
      "metadata": {
        "colab": {
          "base_uri": "https://localhost:8080/"
        },
        "id": "NndGzNO1s6Ue",
        "outputId": "da237c2e-9498-4ae1-dd14-e31ff53856a2"
      },
      "source": [
        "#our model is create now we have to predict it\n",
        "ypred = mymodel.predict(xtest)\n",
        "ypred"
      ],
      "execution_count": 46,
      "outputs": [
        {
          "output_type": "execute_result",
          "data": {
            "text/plain": [
              "array([10.1519013 , 32.73976133, 18.36566858, 86.12924869, 48.14057499,\n",
              "       77.91548141, 61.48794684])"
            ]
          },
          "metadata": {
            "tags": []
          },
          "execution_count": 46
        }
      ]
    },
    {
      "cell_type": "code",
      "metadata": {
        "colab": {
          "base_uri": "https://localhost:8080/",
          "height": 266
        },
        "id": "wYZ3oeOHtEti",
        "outputId": "9686e461-6768-4c88-83d9-37855e1d000f"
      },
      "source": [
        "#comparing hours vs predicted marks\n",
        "df = pd.DataFrame({'Hours': [i[0] for i in xtest.values], 'Predicted Marks': [k for k in ypred]})\n",
        "df\n"
      ],
      "execution_count": 47,
      "outputs": [
        {
          "output_type": "execute_result",
          "data": {
            "text/html": [
              "<div>\n",
              "<style scoped>\n",
              "    .dataframe tbody tr th:only-of-type {\n",
              "        vertical-align: middle;\n",
              "    }\n",
              "\n",
              "    .dataframe tbody tr th {\n",
              "        vertical-align: top;\n",
              "    }\n",
              "\n",
              "    .dataframe thead th {\n",
              "        text-align: right;\n",
              "    }\n",
              "</style>\n",
              "<table border=\"1\" class=\"dataframe\">\n",
              "  <thead>\n",
              "    <tr style=\"text-align: right;\">\n",
              "      <th></th>\n",
              "      <th>Hours</th>\n",
              "      <th>Predicted Marks</th>\n",
              "    </tr>\n",
              "  </thead>\n",
              "  <tbody>\n",
              "    <tr>\n",
              "      <th>0</th>\n",
              "      <td>1.1</td>\n",
              "      <td>10.151901</td>\n",
              "    </tr>\n",
              "    <tr>\n",
              "      <th>1</th>\n",
              "      <td>3.3</td>\n",
              "      <td>32.739761</td>\n",
              "    </tr>\n",
              "    <tr>\n",
              "      <th>2</th>\n",
              "      <td>1.9</td>\n",
              "      <td>18.365669</td>\n",
              "    </tr>\n",
              "    <tr>\n",
              "      <th>3</th>\n",
              "      <td>8.5</td>\n",
              "      <td>86.129249</td>\n",
              "    </tr>\n",
              "    <tr>\n",
              "      <th>4</th>\n",
              "      <td>4.8</td>\n",
              "      <td>48.140575</td>\n",
              "    </tr>\n",
              "    <tr>\n",
              "      <th>5</th>\n",
              "      <td>7.7</td>\n",
              "      <td>77.915481</td>\n",
              "    </tr>\n",
              "    <tr>\n",
              "      <th>6</th>\n",
              "      <td>6.1</td>\n",
              "      <td>61.487947</td>\n",
              "    </tr>\n",
              "  </tbody>\n",
              "</table>\n",
              "</div>"
            ],
            "text/plain": [
              "   Hours  Predicted Marks\n",
              "0    1.1        10.151901\n",
              "1    3.3        32.739761\n",
              "2    1.9        18.365669\n",
              "3    8.5        86.129249\n",
              "4    4.8        48.140575\n",
              "5    7.7        77.915481\n",
              "6    6.1        61.487947"
            ]
          },
          "metadata": {
            "tags": []
          },
          "execution_count": 47
        }
      ]
    },
    {
      "cell_type": "code",
      "metadata": {
        "id": "gj-Od05FtmDo",
        "colab": {
          "base_uri": "https://localhost:8080/",
          "height": 266
        },
        "outputId": "8d1bfc62-4e7a-4af2-f0ce-be338e86d924"
      },
      "source": [
        "#comparing actual marks vs predicted marks\n",
        "df = pd.DataFrame({'Actual Marks': [i for i in ytest], 'Predicted Marks': [k for k in ypred]})\n",
        "df"
      ],
      "execution_count": 48,
      "outputs": [
        {
          "output_type": "execute_result",
          "data": {
            "text/html": [
              "<div>\n",
              "<style scoped>\n",
              "    .dataframe tbody tr th:only-of-type {\n",
              "        vertical-align: middle;\n",
              "    }\n",
              "\n",
              "    .dataframe tbody tr th {\n",
              "        vertical-align: top;\n",
              "    }\n",
              "\n",
              "    .dataframe thead th {\n",
              "        text-align: right;\n",
              "    }\n",
              "</style>\n",
              "<table border=\"1\" class=\"dataframe\">\n",
              "  <thead>\n",
              "    <tr style=\"text-align: right;\">\n",
              "      <th></th>\n",
              "      <th>Actual Marks</th>\n",
              "      <th>Predicted Marks</th>\n",
              "    </tr>\n",
              "  </thead>\n",
              "  <tbody>\n",
              "    <tr>\n",
              "      <th>0</th>\n",
              "      <td>17</td>\n",
              "      <td>10.151901</td>\n",
              "    </tr>\n",
              "    <tr>\n",
              "      <th>1</th>\n",
              "      <td>42</td>\n",
              "      <td>32.739761</td>\n",
              "    </tr>\n",
              "    <tr>\n",
              "      <th>2</th>\n",
              "      <td>24</td>\n",
              "      <td>18.365669</td>\n",
              "    </tr>\n",
              "    <tr>\n",
              "      <th>3</th>\n",
              "      <td>75</td>\n",
              "      <td>86.129249</td>\n",
              "    </tr>\n",
              "    <tr>\n",
              "      <th>4</th>\n",
              "      <td>54</td>\n",
              "      <td>48.140575</td>\n",
              "    </tr>\n",
              "    <tr>\n",
              "      <th>5</th>\n",
              "      <td>85</td>\n",
              "      <td>77.915481</td>\n",
              "    </tr>\n",
              "    <tr>\n",
              "      <th>6</th>\n",
              "      <td>67</td>\n",
              "      <td>61.487947</td>\n",
              "    </tr>\n",
              "  </tbody>\n",
              "</table>\n",
              "</div>"
            ],
            "text/plain": [
              "   Actual Marks  Predicted Marks\n",
              "0            17        10.151901\n",
              "1            42        32.739761\n",
              "2            24        18.365669\n",
              "3            75        86.129249\n",
              "4            54        48.140575\n",
              "5            85        77.915481\n",
              "6            67        61.487947"
            ]
          },
          "metadata": {
            "tags": []
          },
          "execution_count": 48
        }
      ]
    },
    {
      "cell_type": "code",
      "metadata": {
        "colab": {
          "base_uri": "https://localhost:8080/"
        },
        "id": "SaU7cGq23yEL",
        "outputId": "c62652cc-3b3f-488a-a173-558010f9bc77"
      },
      "source": [
        "mymodel.coef_"
      ],
      "execution_count": 49,
      "outputs": [
        {
          "output_type": "execute_result",
          "data": {
            "text/plain": [
              "array([10.26720911])"
            ]
          },
          "metadata": {
            "tags": []
          },
          "execution_count": 49
        }
      ]
    },
    {
      "cell_type": "code",
      "metadata": {
        "colab": {
          "base_uri": "https://localhost:8080/"
        },
        "id": "cCeUFPPU4LSq",
        "outputId": "94d73701-468b-4f93-9156-dc42243631ac"
      },
      "source": [
        "mymodel.intercept_"
      ],
      "execution_count": 50,
      "outputs": [
        {
          "output_type": "execute_result",
          "data": {
            "text/plain": [
              "-1.1420287231153239"
            ]
          },
          "metadata": {
            "tags": []
          },
          "execution_count": 50
        }
      ]
    },
    {
      "cell_type": "code",
      "metadata": {
        "colab": {
          "base_uri": "https://localhost:8080/"
        },
        "id": "EJmjb_aa4N8_",
        "outputId": "fb7db0d4-9c0f-4844-b825-017e07355376"
      },
      "source": [
        "#y = mx+b\n",
        "y= 10.26720911*11+(-1.1420287231153239)\n",
        "print(y)\n",
        "\n",
        "mymodel.predict([[11]])\n",
        "#here we can see mymodel.predict([[11]]) is same this show how linear regression work"
      ],
      "execution_count": 51,
      "outputs": [
        {
          "output_type": "stream",
          "text": [
            "111.79727148688468\n"
          ],
          "name": "stdout"
        },
        {
          "output_type": "execute_result",
          "data": {
            "text/plain": [
              "array([111.79727146])"
            ]
          },
          "metadata": {
            "tags": []
          },
          "execution_count": 51
        }
      ]
    },
    {
      "cell_type": "code",
      "metadata": {
        "colab": {
          "base_uri": "https://localhost:8080/",
          "height": 297
        },
        "id": "Lt0nmM515RT7",
        "outputId": "e50cd358-236f-4e14-c7e3-8d612571376a"
      },
      "source": [
        "plt.scatter(xtrain, ytrain, color='red')\n",
        "plt.plot(xtrain, mymodel.predict(xtrain))\n",
        "plt.xlabel('Hours')\n",
        "plt.ylabel('Marks')\n",
        "plt.title('Actual vs Predicted', size=15)\n",
        "plt.show()"
      ],
      "execution_count": 52,
      "outputs": [
        {
          "output_type": "display_data",
          "data": {
            "image/png": "[encoded data removed]",
            "text/plain": [
              "<Figure size 432x288 with 1 Axes>"
            ]
          },
          "metadata": {
            "tags": [],
            "needs_background": "light"
          }
        }
      ]
    },
    {
      "cell_type": "code",
      "metadata": {
        "colab": {
          "base_uri": "https://localhost:8080/"
        },
        "id": "d2tkQ9yR52OZ",
        "outputId": "e0e34be5-c79d-4f3f-9edb-b451409a5a5d"
      },
      "source": [
        "from sklearn import metrics as m\n",
        "print(m.mean_absolute_error(ytest, ypred))\n",
        "#using this function it state that the chances of error and wrong prediction by this model is very less"
      ],
      "execution_count": 54,
      "outputs": [
        {
          "output_type": "stream",
          "text": [
            "7.3325591780007\n"
          ],
          "name": "stdout"
        }
      ]
    },
    {
      "cell_type": "code",
      "metadata": {
        "colab": {
          "base_uri": "https://localhost:8080/"
        },
        "id": "hsh4vSDr-O1x",
        "outputId": "bf7afb46-c483-42f1-f582-2157e28bd08d"
      },
      "source": [
        "#lets predict the score if a student study 8 hours a day\n",
        "hours = 8\n",
        "print(mymodel.predict([[hours]]))"
      ],
      "execution_count": 55,
      "outputs": [
        {
          "output_type": "stream",
          "text": [
            "[80.99564414]\n"
          ],
          "name": "stdout"
        }
      ]
    },
    {
      "cell_type": "markdown",
      "metadata": {
        "id": "pR4EmneG_iLW"
      },
      "source": [
        "## Save a Model"
      ]
    },
    {
      "cell_type": "code",
      "metadata": {
        "id": "q1r1qdFe-6DO"
      },
      "source": [
        "#using joblib library we save our model\n",
        "from sklearn.externals import joblib\n",
        "joblib.dump(mymodel, 'mymodel_job') #joblib.dump() function will put mymodel in the file mymodel_job\n",
        "newmodel = joblib.load('mymodel_job') #this will load my model in newmodel"
      ],
      "execution_count": 56,
      "outputs": []
    },
    {
      "cell_type": "code",
      "metadata": {
        "colab": {
          "base_uri": "https://localhost:8080/"
        },
        "id": "NIfeyOHIAtI7",
        "outputId": "ac81b665-bd46-4958-c323-90136547ecd0"
      },
      "source": [
        "print(newmodel.predict([[9]])) #if a student study 9 hours a day so he/she can score"
      ],
      "execution_count": 57,
      "outputs": [
        {
          "output_type": "stream",
          "text": [
            "[91.26285325]\n"
          ],
          "name": "stdout"
        }
      ]
    },
    {
      "cell_type": "code",
      "metadata": {
        "id": "Jihnn2lDA8RP"
      },
      "source": [
        ""
      ],
      "execution_count": null,
      "outputs": []
    }
  ]
}